{
 "cells": [
  {
   "cell_type": "markdown",
   "metadata": {},
   "source": [
    "# To do\n",
    "- aggiungere colonna East/west alla tabella teams\n",
    "- costruire la classifica finale della stagione per i due campionati\n",
    "    - dividere in squadre di est e ovest\n",
    "    - per ogni squadra, calcolare il punteggio finale come 2*partite_vinte, e calcolare statistiche aggregate come num_punti, avg_points, avg_blocks ecc.\n",
    "\n",
    "- semplice menu a tendina che permette di selezionare la squadra e visualizzare tutte le sue informazioni e dei suoi players\n",
    "\n",
    "- insert, delete, update (modifica campo esistente e inserimento nuovo campo) giocatore\n",
    "    - la ricerca avviene con nome, cognome, squadra e posizione (le ultime due sono facoltative)\n",
    "    - l'inserimento aggiunge anche il giocatore inserito al team specificato\n",
    "\n"
   ]
  }
 ],
 "metadata": {
  "language_info": {
   "name": "python"
  }
 },
 "nbformat": 4,
 "nbformat_minor": 2
}
