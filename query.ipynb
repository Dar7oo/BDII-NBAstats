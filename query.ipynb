{
 "cells": [
  {
   "cell_type": "markdown",
   "metadata": {},
   "source": [
    "# To do\n",
    "- costruire la classifica finale della stagione per i due campionati\n",
    "    - dividere in squadre di est e ovest\n",
    "    - per ogni squadra, calcolare il punteggio finale come partite_vinte, e calcolare statistiche aggregate come num_punti, avg_points, avg_blocks ecc.\n",
    "\n",
    "- semplice menu a tendina che permette di selezionare la squadra e visualizzare tutte le sue informazioni e dei suoi players\n",
    "\n",
    "- insert, delete, update (modifica campo esistente e inserimento nuovo campo) giocatore\n",
    "    - la ricerca avviene con nome, cognome, squadra e posizione (le ultime due sono facoltative)\n",
    "    - l'inserimento aggiunge anche il giocatore inserito al team specificato\n",
    "\n"
   ]
  },
  {
   "cell_type": "code",
   "execution_count": 1,
   "metadata": {},
   "outputs": [],
   "source": [
    "from pymongo import MongoClient"
   ]
  },
  {
   "cell_type": "code",
   "execution_count": 2,
   "metadata": {},
   "outputs": [],
   "source": [
    "client = MongoClient(\"mongodb://localhost:27017/\")\n",
    "\n",
    "db = client[\"BDII-NBAstats\"]\n",
    "\n",
    "col_players = db[\"Players\"]\n",
    "\n",
    "col_teams = db[\"Teams\"]\n",
    "\n",
    "col_games = db[\"Games\"]"
   ]
  },
  {
   "cell_type": "code",
   "execution_count": 20,
   "metadata": {},
   "outputs": [
    {
     "name": "stdout",
     "output_type": "stream",
     "text": [
      "{'_id': {'team_name': 'Milwaukee Bucks'}, 'games_won': 58, 'games_lost': 24}\n",
      "{'_id': {'team_name': 'Boston Celtics'}, 'games_won': 57, 'games_lost': 25}\n",
      "{'_id': {'team_name': 'Philadelphia 76ers'}, 'games_won': 54, 'games_lost': 28}\n",
      "{'_id': {'team_name': 'Denver Nuggets'}, 'games_won': 53, 'games_lost': 29}\n",
      "{'_id': {'team_name': 'Memphis Grizzlies'}, 'games_won': 51, 'games_lost': 31}\n",
      "{'_id': {'team_name': 'Cleveland Cavaliers'}, 'games_won': 51, 'games_lost': 31}\n",
      "{'_id': {'team_name': 'Sacramento Kings'}, 'games_won': 48, 'games_lost': 34}\n",
      "{'_id': {'team_name': 'New York Knicks'}, 'games_won': 47, 'games_lost': 35}\n",
      "{'_id': {'team_name': 'Brooklyn Nets'}, 'games_won': 45, 'games_lost': 37}\n",
      "{'_id': {'team_name': 'Phoenix Suns'}, 'games_won': 45, 'games_lost': 37}\n",
      "{'_id': {'team_name': 'Golden State Warriors'}, 'games_won': 44, 'games_lost': 38}\n",
      "{'_id': {'team_name': 'LA Clippers'}, 'games_won': 44, 'games_lost': 38}\n",
      "{'_id': {'team_name': 'Miami Heat'}, 'games_won': 44, 'games_lost': 38}\n",
      "{'_id': {'team_name': 'Los Angeles Lakers'}, 'games_won': 43, 'games_lost': 39}\n",
      "{'_id': {'team_name': 'New Orleans Pelicans'}, 'games_won': 42, 'games_lost': 40}\n",
      "{'_id': {'team_name': 'Minnesota Timberwolves'}, 'games_won': 42, 'games_lost': 40}\n",
      "{'_id': {'team_name': 'Toronto Raptors'}, 'games_won': 41, 'games_lost': 41}\n",
      "{'_id': {'team_name': 'Atlanta Hawks'}, 'games_won': 41, 'games_lost': 41}\n",
      "{'_id': {'team_name': 'Oklahoma City Thunder'}, 'games_won': 40, 'games_lost': 42}\n",
      "{'_id': {'team_name': 'Chicago Bulls'}, 'games_won': 40, 'games_lost': 42}\n",
      "{'_id': {'team_name': 'Dallas Mavericks'}, 'games_won': 38, 'games_lost': 44}\n",
      "{'_id': {'team_name': 'Utah Jazz'}, 'games_won': 37, 'games_lost': 45}\n",
      "{'_id': {'team_name': 'Washington Wizards'}, 'games_won': 35, 'games_lost': 47}\n",
      "{'_id': {'team_name': 'Indiana Pacers'}, 'games_won': 35, 'games_lost': 47}\n",
      "{'_id': {'team_name': 'Orlando Magic'}, 'games_won': 34, 'games_lost': 48}\n",
      "{'_id': {'team_name': 'Portland Trail Blazers'}, 'games_won': 33, 'games_lost': 49}\n",
      "{'_id': {'team_name': 'Charlotte Hornets'}, 'games_won': 27, 'games_lost': 55}\n",
      "{'_id': {'team_name': 'Houston Rockets'}, 'games_won': 22, 'games_lost': 60}\n",
      "{'_id': {'team_name': 'San Antonio Spurs'}, 'games_won': 22, 'games_lost': 60}\n",
      "{'_id': {'team_name': 'Detroit Pistons'}, 'games_won': 17, 'games_lost': 65}\n"
     ]
    }
   ],
   "source": [
    "# Vittorie totali\n",
    "query = col_games.aggregate([\n",
    "    #{ \"$match\" : { \"$or\" : [ {\"winner\" : \"Home\"}, {\"winner\" : \"Away\"}]}},\n",
    "    { \"$group\" : { \"_id\" : {\n",
    "        \"team_name\" : {\n",
    "            \"$cond\" : { \"if\" : { \"$eq\" : [ \"$winner\", \"Home\" ] }, \"then\" : \"$team_name_home\" , \"else\" : \"$team_name_away\" }\n",
    "            }\n",
    "        },\n",
    "                  \"games_won\" : { \"$sum\" : 1 }\n",
    "                  }\n",
    "     },\n",
    "    { \"$set\" : { \"games_lost\" : { \"$subtract\" :  [ 82,  \"$games_won\" ]  } } }, \n",
    "    { \"$sort\" : { \"games_won\" : -1 } }\n",
    "])\n",
    "\n",
    "for res in query:\n",
    "    print(res)"
   ]
  },
  {
   "cell_type": "code",
   "execution_count": 21,
   "metadata": {},
   "outputs": [
    {
     "name": "stdout",
     "output_type": "stream",
     "text": [
      "{'_id': 'Memphis Grizzlies', 'games_won': 35, 'games_lost': 6}\n",
      "{'_id': 'Denver Nuggets', 'games_won': 34, 'games_lost': 7}\n",
      "{'_id': 'Golden State Warriors', 'games_won': 33, 'games_lost': 8}\n",
      "{'_id': 'Milwaukee Bucks', 'games_won': 32, 'games_lost': 9}\n",
      "{'_id': 'Boston Celtics', 'games_won': 32, 'games_lost': 9}\n",
      "{'_id': 'Cleveland Cavaliers', 'games_won': 31, 'games_lost': 10}\n",
      "{'_id': 'Philadelphia 76ers', 'games_won': 29, 'games_lost': 12}\n",
      "{'_id': 'Phoenix Suns', 'games_won': 28, 'games_lost': 13}\n",
      "{'_id': 'Toronto Raptors', 'games_won': 27, 'games_lost': 14}\n",
      "{'_id': 'Miami Heat', 'games_won': 27, 'games_lost': 14}\n",
      "{'_id': 'New Orleans Pelicans', 'games_won': 27, 'games_lost': 14}\n",
      "{'_id': 'Oklahoma City Thunder', 'games_won': 24, 'games_lost': 17}\n",
      "{'_id': 'Atlanta Hawks', 'games_won': 24, 'games_lost': 17}\n",
      "{'_id': 'LA Clippers', 'games_won': 23, 'games_lost': 18}\n",
      "{'_id': 'Sacramento Kings', 'games_won': 23, 'games_lost': 18}\n",
      "{'_id': 'Brooklyn Nets', 'games_won': 23, 'games_lost': 18}\n",
      "{'_id': 'Utah Jazz', 'games_won': 23, 'games_lost': 18}\n",
      "{'_id': 'Los Angeles Lakers', 'games_won': 23, 'games_lost': 18}\n",
      "{'_id': 'New York Knicks', 'games_won': 23, 'games_lost': 18}\n",
      "{'_id': 'Dallas Mavericks', 'games_won': 23, 'games_lost': 18}\n",
      "{'_id': 'Chicago Bulls', 'games_won': 22, 'games_lost': 19}\n",
      "{'_id': 'Minnesota Timberwolves', 'games_won': 22, 'games_lost': 19}\n",
      "{'_id': 'Orlando Magic', 'games_won': 20, 'games_lost': 21}\n",
      "{'_id': 'Indiana Pacers', 'games_won': 20, 'games_lost': 21}\n",
      "{'_id': 'Washington Wizards', 'games_won': 19, 'games_lost': 22}\n",
      "{'_id': 'Portland Trail Blazers', 'games_won': 17, 'games_lost': 24}\n",
      "{'_id': 'Houston Rockets', 'games_won': 14, 'games_lost': 27}\n",
      "{'_id': 'San Antonio Spurs', 'games_won': 14, 'games_lost': 27}\n",
      "{'_id': 'Charlotte Hornets', 'games_won': 13, 'games_lost': 28}\n",
      "{'_id': 'Detroit Pistons', 'games_won': 9, 'games_lost': 32}\n"
     ]
    }
   ],
   "source": [
    "# Vittorie in casa\n",
    "query = col_games.aggregate([\n",
    "    { \"$match\" : { \"winner\" : \"Home\" }},\n",
    "    { \"$group\" : { \"_id\" : \"$team_name_home\",\n",
    "                   \"games_won\" : { \"$sum\" : 1 }\n",
    "                  }\n",
    "     },\n",
    "    { \"$set\" : { \"games_lost\" : { \"$subtract\" :  [ 41,  \"$games_won\" ]  } } },\n",
    "    { \"$sort\" : { \"games_won\" : -1 } }\n",
    "])\n",
    "\n",
    "for res in query:\n",
    "    print(res)"
   ]
  },
  {
   "cell_type": "code",
   "execution_count": 22,
   "metadata": {},
   "outputs": [
    {
     "name": "stdout",
     "output_type": "stream",
     "text": [
      "{'_id': 'Milwaukee Bucks', 'games_won': 26, 'games_lost': 15}\n",
      "{'_id': 'Sacramento Kings', 'games_won': 25, 'games_lost': 16}\n",
      "{'_id': 'Philadelphia 76ers', 'games_won': 25, 'games_lost': 16}\n",
      "{'_id': 'Boston Celtics', 'games_won': 25, 'games_lost': 16}\n",
      "{'_id': 'New York Knicks', 'games_won': 24, 'games_lost': 17}\n",
      "{'_id': 'Brooklyn Nets', 'games_won': 22, 'games_lost': 19}\n",
      "{'_id': 'LA Clippers', 'games_won': 21, 'games_lost': 20}\n",
      "{'_id': 'Los Angeles Lakers', 'games_won': 20, 'games_lost': 21}\n",
      "{'_id': 'Minnesota Timberwolves', 'games_won': 20, 'games_lost': 21}\n",
      "{'_id': 'Cleveland Cavaliers', 'games_won': 20, 'games_lost': 21}\n",
      "{'_id': 'Denver Nuggets', 'games_won': 19, 'games_lost': 22}\n",
      "{'_id': 'Chicago Bulls', 'games_won': 18, 'games_lost': 23}\n",
      "{'_id': 'Miami Heat', 'games_won': 17, 'games_lost': 24}\n",
      "{'_id': 'Atlanta Hawks', 'games_won': 17, 'games_lost': 24}\n",
      "{'_id': 'Phoenix Suns', 'games_won': 17, 'games_lost': 24}\n",
      "{'_id': 'Washington Wizards', 'games_won': 16, 'games_lost': 25}\n",
      "{'_id': 'Oklahoma City Thunder', 'games_won': 16, 'games_lost': 25}\n",
      "{'_id': 'Portland Trail Blazers', 'games_won': 16, 'games_lost': 25}\n",
      "{'_id': 'Memphis Grizzlies', 'games_won': 16, 'games_lost': 25}\n",
      "{'_id': 'Indiana Pacers', 'games_won': 15, 'games_lost': 26}\n",
      "{'_id': 'Dallas Mavericks', 'games_won': 15, 'games_lost': 26}\n",
      "{'_id': 'New Orleans Pelicans', 'games_won': 15, 'games_lost': 26}\n",
      "{'_id': 'Charlotte Hornets', 'games_won': 14, 'games_lost': 27}\n",
      "{'_id': 'Orlando Magic', 'games_won': 14, 'games_lost': 27}\n",
      "{'_id': 'Toronto Raptors', 'games_won': 14, 'games_lost': 27}\n",
      "{'_id': 'Utah Jazz', 'games_won': 14, 'games_lost': 27}\n",
      "{'_id': 'Golden State Warriors', 'games_won': 11, 'games_lost': 30}\n",
      "{'_id': 'Houston Rockets', 'games_won': 8, 'games_lost': 33}\n",
      "{'_id': 'Detroit Pistons', 'games_won': 8, 'games_lost': 33}\n",
      "{'_id': 'San Antonio Spurs', 'games_won': 8, 'games_lost': 33}\n"
     ]
    }
   ],
   "source": [
    "# Vittorie fuori casa\n",
    "query = col_games.aggregate([\n",
    "    { \"$match\" : { \"winner\" : \"Away\" }},\n",
    "    { \"$group\" : { \"_id\" : \"$team_name_away\",\n",
    "                   \"games_won\" : { \"$sum\" : 1 }\n",
    "                  }\n",
    "     },\n",
    "    { \"$set\" : { \"games_lost\" : { \"$subtract\" :  [ 41,  \"$games_won\" ]  } } }, \n",
    "    { \"$sort\" : { \"games_won\" : -1 } }\n",
    "])\n",
    "\n",
    "for res in query:\n",
    "    print(res)"
   ]
  }
 ],
 "metadata": {
  "kernelspec": {
   "display_name": "BDII-NBAstats",
   "language": "python",
   "name": "python3"
  },
  "language_info": {
   "codemirror_mode": {
    "name": "ipython",
    "version": 3
   },
   "file_extension": ".py",
   "mimetype": "text/x-python",
   "name": "python",
   "nbconvert_exporter": "python",
   "pygments_lexer": "ipython3",
   "version": "3.11.9"
  }
 },
 "nbformat": 4,
 "nbformat_minor": 2
}
