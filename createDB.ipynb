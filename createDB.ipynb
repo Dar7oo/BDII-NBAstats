{
 "cells": [
  {
   "cell_type": "code",
   "execution_count": 1,
   "metadata": {},
   "outputs": [],
   "source": [
    "from pymongo import MongoClient\n",
    "import pandas as pd\n",
    "import chardet"
   ]
  },
  {
   "cell_type": "markdown",
   "metadata": {},
   "source": [
    "# Creazione database"
   ]
  },
  {
   "cell_type": "code",
   "execution_count": 2,
   "metadata": {},
   "outputs": [],
   "source": [
    "# Il database diventa visibile su MongoDBcompass solo dopo l'inserimento del primo documento\n",
    "\n",
    "# Connessione al client\n",
    "client = MongoClient(\"mongodb://localhost:27017/\")\n",
    "\n",
    "# Creazione database\n",
    "db = client[\"BDII-NBAstats\"]\n",
    "\n",
    "# Creazione collection\n",
    "col_players = db[\"Players\"]\n",
    "\n",
    "# Creazione collection\n",
    "col_teams = db[\"Teams\"]\n",
    "\n",
    "# Creazione collection\n",
    "col_games = db[\"Games\"]"
   ]
  },
  {
   "cell_type": "markdown",
   "metadata": {},
   "source": [
    "# Inserimento dati"
   ]
  },
  {
   "cell_type": "markdown",
   "metadata": {},
   "source": [
    "## Inserimento players"
   ]
  },
  {
   "cell_type": "code",
   "execution_count": 3,
   "metadata": {},
   "outputs": [],
   "source": [
    "players_path = \".\\\\data\\\\players.csv\"\n",
    "\n",
    "with open(players_path, \"rb\") as f:\n",
    "    result = chardet.detect(f.read())\n",
    "\n",
    "players_df = pd.read_csv(players_path, encoding=result[\"encoding\"], delimiter=\";\")"
   ]
  },
  {
   "cell_type": "code",
   "execution_count": 4,
   "metadata": {},
   "outputs": [],
   "source": [
    "# Rimozione colonne inutili\n",
    "players_df = players_df.drop([\"Rk\", \"GS\", \"TOV\"], axis=1)"
   ]
  },
  {
   "cell_type": "code",
   "execution_count": 5,
   "metadata": {},
   "outputs": [],
   "source": [
    "# Inserimento dati\n",
    "# iterrows() restituisce indice e contenuto delle singole righe del dataframe pandas\n",
    "for index, row in players_df.iterrows():\n",
    "    # Conversione della lista in dizionario\n",
    "    #print(row.to_dict())\n",
    "    \n",
    "    # Inserimento nella collection col\n",
    "    col_players.insert_one(row.to_dict())"
   ]
  },
  {
   "cell_type": "markdown",
   "metadata": {},
   "source": [
    "## Inserimento Teams"
   ]
  },
  {
   "cell_type": "code",
   "execution_count": 6,
   "metadata": {},
   "outputs": [],
   "source": [
    "teams_path = \".\\\\data\\\\teams.csv\"\n",
    "\n",
    "with open(teams_path, \"rb\") as f:\n",
    "    result = chardet.detect(f.read())\n",
    "\n",
    "teams_df = pd.read_csv(teams_path, encoding=result[\"encoding\"], delimiter=\",\")"
   ]
  },
  {
   "cell_type": "code",
   "execution_count": 7,
   "metadata": {},
   "outputs": [],
   "source": [
    "# Inserimento colonna \"conference\"\n",
    "eastern = [\"BOS\", \"NYK\", \"MIL\", \"CLE\", \"ORL\", \"IND\", \"PHI\", \"MIA\", \"CHI\", \"ATL\", \"BKN\", \"TOR\", \"CHA\", \"WAS\", \"DET\"]\n",
    "western = [\"OKC\", \"DEN\", \"MIN\", \"LAC\", \"DAL\", \"PHX\", \"NOP\", \"LAL\", \"SAC\", \"GSW\", \"HOU\", \"UTA\", \"MEM\", \"SAS\", \"POR\"]\n",
    "\n",
    "conference = list()\n",
    "for index, row in teams_df.iterrows():\n",
    "    conference.append(\"East\" if row[\"abbreviation\"] in eastern else \"West\")\n",
    "\n",
    "teams_df.insert(loc=6, column=\"conference\", value=conference)"
   ]
  },
  {
   "cell_type": "code",
   "execution_count": 8,
   "metadata": {},
   "outputs": [],
   "source": [
    "# Rimozione colonne inutili\n",
    "teams_df = teams_df.drop([\"team_id\", \"arenacapacity\"], axis=1)"
   ]
  },
  {
   "cell_type": "code",
   "execution_count": 9,
   "metadata": {},
   "outputs": [],
   "source": [
    "# Inserimento dati\n",
    "for index, row in teams_df.iterrows():\n",
    "    #print(row.to_dict())\n",
    "    col_teams.insert_one(row.to_dict())"
   ]
  },
  {
   "cell_type": "markdown",
   "metadata": {},
   "source": [
    "## Inserimento Games"
   ]
  },
  {
   "cell_type": "code",
   "execution_count": 10,
   "metadata": {},
   "outputs": [],
   "source": [
    "games_path = \".\\\\data\\\\games.csv\"\n",
    "\n",
    "with open(games_path, \"rb\") as f:\n",
    "    result = chardet.detect(f.read())\n",
    "\n",
    "games_df = pd.read_csv(games_path, encoding=result[\"encoding\"], delimiter=\",\")"
   ]
  },
  {
   "cell_type": "code",
   "execution_count": 11,
   "metadata": {},
   "outputs": [],
   "source": [
    "# Selezione partite della stagione 2022-2023\n",
    "games_df = games_df[games_df[\"season_id\"] == 22022]\n",
    "\n",
    "# Rimozione colonne inutili\n",
    "games_df = games_df.drop([\"season_id\", \"team_id_home\", \"game_id\", \"min\", \"plus_minus_home\", \"video_available_home\",\n",
    "                          \"team_id_away\", \"matchup_away\", \"plus_minus_away\", \"video_available_away\", \"season_type\"], axis=1)"
   ]
  },
  {
   "cell_type": "code",
   "execution_count": 12,
   "metadata": {},
   "outputs": [],
   "source": [
    "# Sostituisco le colonne \"wl_home\" e \"wl_away\" con un'unica colonna \"winner\" che ha valore \"Home\" se ha vinto la squadra in casa, \"Away\" altrimenti \n",
    "winner = games_df[\"wl_home\"].where(games_df[\"wl_home\"] == \"W\", \"Away\")\n",
    "winner = winner.where(winner == \"Away\", \"Home\")\n",
    "\n",
    "games_df.insert(loc=44, column=\"winner\", value=winner)\n",
    "games_df = games_df.drop([\"wl_home\", \"wl_away\"], axis=1)"
   ]
  },
  {
   "cell_type": "code",
   "execution_count": 13,
   "metadata": {},
   "outputs": [],
   "source": [
    "# Inserimento dati\n",
    "for index, row in games_df.iterrows():\n",
    "    #print(row.to_dict())\n",
    "    col_games.insert_one(row.to_dict())"
   ]
  },
  {
   "cell_type": "markdown",
   "metadata": {},
   "source": [
    "# Embedding"
   ]
  },
  {
   "cell_type": "markdown",
   "metadata": {},
   "source": [
    "## Aggiunta riferimenti di Players in Teams"
   ]
  },
  {
   "cell_type": "code",
   "execution_count": 14,
   "metadata": {},
   "outputs": [],
   "source": [
    "# Prendo le abbreviazioni di tutti i team dalla collection teams\n",
    "get_teams = col_teams.find()\n",
    "\n",
    "team_abbreviations = list()\n",
    "for res in get_teams:\n",
    "    team_abbreviations.append(res[\"abbreviation\"])\n",
    "\n",
    "#print(team_abbreviations)"
   ]
  },
  {
   "cell_type": "code",
   "execution_count": 15,
   "metadata": {},
   "outputs": [],
   "source": [
    "# Per ogni squadra\n",
    "for team in team_abbreviations:\n",
    "    # Prendo tutti i giocatori di quella squadra dalla collection players\n",
    "    get_players_from_team = {\"Tm\" : team}\n",
    "    \n",
    "    players_from_team = col_players.find(get_players_from_team)\n",
    "    \n",
    "    #print(f\"Team: {team}\")\n",
    "    player_ids = list()\n",
    "\n",
    "    # Per ogni giocatore della squadra team\n",
    "    for player in players_from_team:\n",
    "        # Prendo l'id del giocatore e lo aggiungo alla lista di id dei giocatori della squadra team\n",
    "        player_ids.append(player[\"_id\"])\n",
    "    \n",
    "    # Per la squadra con abbreviation = team, creo un nuovo campo (con $set) chiamato \"Players\" che come valore avrà la lista di id di giocatori di quella squadra \n",
    "    col_teams.update_one({\"abbreviation\" : team}, {\"$set\" : {\"Players\" : player_ids}})\n"
   ]
  },
  {
   "cell_type": "markdown",
   "metadata": {},
   "source": [
    "## Aggiunta riferimenti di Teams in Games"
   ]
  },
  {
   "cell_type": "code",
   "execution_count": 16,
   "metadata": {},
   "outputs": [],
   "source": [
    "# Prendo le abbreviazioni e gli id di tutti i team dalla collection teams\n",
    "get_teams = col_teams.find()\n",
    "\n",
    "team_abbreviations = list()\n",
    "team_ids = list()\n",
    "\n",
    "for res in get_teams:\n",
    "    team_abbreviations.append(res[\"abbreviation\"])\n",
    "    team_ids.append(res[\"_id\"])\n",
    "\n",
    "# E li aggiungo ad un dizionario\n",
    "teams = dict()\n",
    "teams[\"abbreviations\"] = team_abbreviations\n",
    "teams[\"_ids\"] = team_ids\n",
    "\n",
    "# Prendo tutte le partite\n",
    "games = col_games.find()\n",
    "\n",
    "# Per ogni coppia abbreviazione-id nel dizionario creato\n",
    "for team_abbr, team_id in zip(teams[\"abbreviations\"], teams[\"_ids\"]):\n",
    "    # Se team_abbr è la squadra in casa, aggiunge un campo chiamato \"team_id_home\" con valore \"team_id\"\n",
    "    col_games.update_many({\"team_abbreviation_home\" : team_abbr}, {\"$set\" : {\"team_id_home\" : team_id}})\n",
    "\n",
    "    # Se team_abbr è la squadra fuori casa, aggiunge un campo chiamato \"team_id_away\" con valore \"team_id\"\n",
    "    col_games.update_many({\"team_abbreviation_away\" : team_abbr}, {\"$set\" : {\"team_id_away\" : team_id}})\n"
   ]
  }
 ],
 "metadata": {
  "kernelspec": {
   "display_name": "BDII-NBAstats",
   "language": "python",
   "name": "python3"
  },
  "language_info": {
   "codemirror_mode": {
    "name": "ipython",
    "version": 3
   },
   "file_extension": ".py",
   "mimetype": "text/x-python",
   "name": "python",
   "nbconvert_exporter": "python",
   "pygments_lexer": "ipython3",
   "version": "3.11.9"
  }
 },
 "nbformat": 4,
 "nbformat_minor": 2
}
